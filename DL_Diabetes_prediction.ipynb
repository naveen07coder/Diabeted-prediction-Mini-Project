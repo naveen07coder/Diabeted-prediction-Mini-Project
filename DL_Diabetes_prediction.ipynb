{
  "nbformat": 4,
  "nbformat_minor": 0,
  "metadata": {
    "colab": {
      "name": "DL Diabetes prediction.ipynb",
      "provenance": [],
      "collapsed_sections": []
    },
    "kernelspec": {
      "name": "python3",
      "display_name": "Python 3"
    },
    "language_info": {
      "name": "python"
    }
  },
  "cells": [
    {
      "cell_type": "markdown",
      "source": [
        "#Diabeted prediction Mini Project - SmartKnower"
      ],
      "metadata": {
        "id": "E2NBkVZ9n1IR"
      }
    },
    {
      "cell_type": "code",
      "source": [
        "import pandas as pd"
      ],
      "metadata": {
        "id": "sSIz4NwTohjO"
      },
      "execution_count": null,
      "outputs": []
    },
    {
      "cell_type": "code",
      "source": [
        "#load the dataset\n",
        "df = pd.read_csv('/content/drive/MyDrive/MINI PROJECT(Diabetes Prediction)/pima-diabetes.csv', header=None)\n",
        "df.head()"
      ],
      "metadata": {
        "colab": {
          "base_uri": "https://localhost:8080/",
          "height": 206
        },
        "id": "pRWbucoJom76",
        "outputId": "43539383-573b-4cf4-ca05-6988fda05260"
      },
      "execution_count": null,
      "outputs": [
        {
          "output_type": "execute_result",
          "data": {
            "text/html": [
              "\n",
              "  <div id=\"df-1c170bb3-b6dd-45b1-9a2c-056bdcab84e2\">\n",
              "    <div class=\"colab-df-container\">\n",
              "      <div>\n",
              "<style scoped>\n",
              "    .dataframe tbody tr th:only-of-type {\n",
              "        vertical-align: middle;\n",
              "    }\n",
              "\n",
              "    .dataframe tbody tr th {\n",
              "        vertical-align: top;\n",
              "    }\n",
              "\n",
              "    .dataframe thead th {\n",
              "        text-align: right;\n",
              "    }\n",
              "</style>\n",
              "<table border=\"1\" class=\"dataframe\">\n",
              "  <thead>\n",
              "    <tr style=\"text-align: right;\">\n",
              "      <th></th>\n",
              "      <th>0</th>\n",
              "      <th>1</th>\n",
              "      <th>2</th>\n",
              "      <th>3</th>\n",
              "      <th>4</th>\n",
              "      <th>5</th>\n",
              "      <th>6</th>\n",
              "      <th>7</th>\n",
              "      <th>8</th>\n",
              "    </tr>\n",
              "  </thead>\n",
              "  <tbody>\n",
              "    <tr>\n",
              "      <th>0</th>\n",
              "      <td>6</td>\n",
              "      <td>148</td>\n",
              "      <td>72</td>\n",
              "      <td>35</td>\n",
              "      <td>0</td>\n",
              "      <td>33.6</td>\n",
              "      <td>0.627</td>\n",
              "      <td>50</td>\n",
              "      <td>1</td>\n",
              "    </tr>\n",
              "    <tr>\n",
              "      <th>1</th>\n",
              "      <td>1</td>\n",
              "      <td>85</td>\n",
              "      <td>66</td>\n",
              "      <td>29</td>\n",
              "      <td>0</td>\n",
              "      <td>26.6</td>\n",
              "      <td>0.351</td>\n",
              "      <td>31</td>\n",
              "      <td>0</td>\n",
              "    </tr>\n",
              "    <tr>\n",
              "      <th>2</th>\n",
              "      <td>8</td>\n",
              "      <td>183</td>\n",
              "      <td>64</td>\n",
              "      <td>0</td>\n",
              "      <td>0</td>\n",
              "      <td>23.3</td>\n",
              "      <td>0.672</td>\n",
              "      <td>32</td>\n",
              "      <td>1</td>\n",
              "    </tr>\n",
              "    <tr>\n",
              "      <th>3</th>\n",
              "      <td>1</td>\n",
              "      <td>89</td>\n",
              "      <td>66</td>\n",
              "      <td>23</td>\n",
              "      <td>94</td>\n",
              "      <td>28.1</td>\n",
              "      <td>0.167</td>\n",
              "      <td>21</td>\n",
              "      <td>0</td>\n",
              "    </tr>\n",
              "    <tr>\n",
              "      <th>4</th>\n",
              "      <td>0</td>\n",
              "      <td>137</td>\n",
              "      <td>40</td>\n",
              "      <td>35</td>\n",
              "      <td>168</td>\n",
              "      <td>43.1</td>\n",
              "      <td>2.288</td>\n",
              "      <td>33</td>\n",
              "      <td>1</td>\n",
              "    </tr>\n",
              "  </tbody>\n",
              "</table>\n",
              "</div>\n",
              "      <button class=\"colab-df-convert\" onclick=\"convertToInteractive('df-1c170bb3-b6dd-45b1-9a2c-056bdcab84e2')\"\n",
              "              title=\"Convert this dataframe to an interactive table.\"\n",
              "              style=\"display:none;\">\n",
              "        \n",
              "  <svg xmlns=\"http://www.w3.org/2000/svg\" height=\"24px\"viewBox=\"0 0 24 24\"\n",
              "       width=\"24px\">\n",
              "    <path d=\"M0 0h24v24H0V0z\" fill=\"none\"/>\n",
              "    <path d=\"M18.56 5.44l.94 2.06.94-2.06 2.06-.94-2.06-.94-.94-2.06-.94 2.06-2.06.94zm-11 1L8.5 8.5l.94-2.06 2.06-.94-2.06-.94L8.5 2.5l-.94 2.06-2.06.94zm10 10l.94 2.06.94-2.06 2.06-.94-2.06-.94-.94-2.06-.94 2.06-2.06.94z\"/><path d=\"M17.41 7.96l-1.37-1.37c-.4-.4-.92-.59-1.43-.59-.52 0-1.04.2-1.43.59L10.3 9.45l-7.72 7.72c-.78.78-.78 2.05 0 2.83L4 21.41c.39.39.9.59 1.41.59.51 0 1.02-.2 1.41-.59l7.78-7.78 2.81-2.81c.8-.78.8-2.07 0-2.86zM5.41 20L4 18.59l7.72-7.72 1.47 1.35L5.41 20z\"/>\n",
              "  </svg>\n",
              "      </button>\n",
              "      \n",
              "  <style>\n",
              "    .colab-df-container {\n",
              "      display:flex;\n",
              "      flex-wrap:wrap;\n",
              "      gap: 12px;\n",
              "    }\n",
              "\n",
              "    .colab-df-convert {\n",
              "      background-color: #E8F0FE;\n",
              "      border: none;\n",
              "      border-radius: 50%;\n",
              "      cursor: pointer;\n",
              "      display: none;\n",
              "      fill: #1967D2;\n",
              "      height: 32px;\n",
              "      padding: 0 0 0 0;\n",
              "      width: 32px;\n",
              "    }\n",
              "\n",
              "    .colab-df-convert:hover {\n",
              "      background-color: #E2EBFA;\n",
              "      box-shadow: 0px 1px 2px rgba(60, 64, 67, 0.3), 0px 1px 3px 1px rgba(60, 64, 67, 0.15);\n",
              "      fill: #174EA6;\n",
              "    }\n",
              "\n",
              "    [theme=dark] .colab-df-convert {\n",
              "      background-color: #3B4455;\n",
              "      fill: #D2E3FC;\n",
              "    }\n",
              "\n",
              "    [theme=dark] .colab-df-convert:hover {\n",
              "      background-color: #434B5C;\n",
              "      box-shadow: 0px 1px 3px 1px rgba(0, 0, 0, 0.15);\n",
              "      filter: drop-shadow(0px 1px 2px rgba(0, 0, 0, 0.3));\n",
              "      fill: #FFFFFF;\n",
              "    }\n",
              "  </style>\n",
              "\n",
              "      <script>\n",
              "        const buttonEl =\n",
              "          document.querySelector('#df-1c170bb3-b6dd-45b1-9a2c-056bdcab84e2 button.colab-df-convert');\n",
              "        buttonEl.style.display =\n",
              "          google.colab.kernel.accessAllowed ? 'block' : 'none';\n",
              "\n",
              "        async function convertToInteractive(key) {\n",
              "          const element = document.querySelector('#df-1c170bb3-b6dd-45b1-9a2c-056bdcab84e2');\n",
              "          const dataTable =\n",
              "            await google.colab.kernel.invokeFunction('convertToInteractive',\n",
              "                                                     [key], {});\n",
              "          if (!dataTable) return;\n",
              "\n",
              "          const docLinkHtml = 'Like what you see? Visit the ' +\n",
              "            '<a target=\"_blank\" href=https://colab.research.google.com/notebooks/data_table.ipynb>data table notebook</a>'\n",
              "            + ' to learn more about interactive tables.';\n",
              "          element.innerHTML = '';\n",
              "          dataTable['output_type'] = 'display_data';\n",
              "          await google.colab.output.renderOutput(dataTable, element);\n",
              "          const docLink = document.createElement('div');\n",
              "          docLink.innerHTML = docLinkHtml;\n",
              "          element.appendChild(docLink);\n",
              "        }\n",
              "      </script>\n",
              "    </div>\n",
              "  </div>\n",
              "  "
            ],
            "text/plain": [
              "   0    1   2   3    4     5      6   7  8\n",
              "0  6  148  72  35    0  33.6  0.627  50  1\n",
              "1  1   85  66  29    0  26.6  0.351  31  0\n",
              "2  8  183  64   0    0  23.3  0.672  32  1\n",
              "3  1   89  66  23   94  28.1  0.167  21  0\n",
              "4  0  137  40  35  168  43.1  2.288  33  1"
            ]
          },
          "metadata": {},
          "execution_count": 3
        }
      ]
    },
    {
      "cell_type": "code",
      "source": [
        "from numpy import loadtxt\n",
        "import numpy as np\n",
        "from keras.utils import np_utils\n",
        "from sklearn.preprocessing import scale\n",
        "from sklearn.metrics import accuracy_score\n",
        "from sklearn.model_selection import train_test_split"
      ],
      "metadata": {
        "id": "-1NIA2C2pp8G"
      },
      "execution_count": null,
      "outputs": []
    },
    {
      "cell_type": "code",
      "source": [
        "df.columns=['Pregnancies', 'Glucose', 'BloodPressure', 'SkinThiness', 'Inuslin', 'BMI', 'DiabetesPedigreeFunction', 'Age', 'Class']\n",
        "df.head()"
      ],
      "metadata": {
        "colab": {
          "base_uri": "https://localhost:8080/",
          "height": 206
        },
        "id": "-zqHBxD1tOE1",
        "outputId": "9364a2a2-da73-44d3-9110-43ec05c9ac31"
      },
      "execution_count": null,
      "outputs": [
        {
          "output_type": "execute_result",
          "data": {
            "text/html": [
              "\n",
              "  <div id=\"df-32ef0ceb-d08d-40c3-9889-40dd345a5c79\">\n",
              "    <div class=\"colab-df-container\">\n",
              "      <div>\n",
              "<style scoped>\n",
              "    .dataframe tbody tr th:only-of-type {\n",
              "        vertical-align: middle;\n",
              "    }\n",
              "\n",
              "    .dataframe tbody tr th {\n",
              "        vertical-align: top;\n",
              "    }\n",
              "\n",
              "    .dataframe thead th {\n",
              "        text-align: right;\n",
              "    }\n",
              "</style>\n",
              "<table border=\"1\" class=\"dataframe\">\n",
              "  <thead>\n",
              "    <tr style=\"text-align: right;\">\n",
              "      <th></th>\n",
              "      <th>Pregnancies</th>\n",
              "      <th>Glucose</th>\n",
              "      <th>BloodPressure</th>\n",
              "      <th>SkinThiness</th>\n",
              "      <th>Inuslin</th>\n",
              "      <th>BMI</th>\n",
              "      <th>DiabetesPedigreeFunction</th>\n",
              "      <th>Age</th>\n",
              "      <th>Class</th>\n",
              "    </tr>\n",
              "  </thead>\n",
              "  <tbody>\n",
              "    <tr>\n",
              "      <th>0</th>\n",
              "      <td>6</td>\n",
              "      <td>148</td>\n",
              "      <td>72</td>\n",
              "      <td>35</td>\n",
              "      <td>0</td>\n",
              "      <td>33.6</td>\n",
              "      <td>0.627</td>\n",
              "      <td>50</td>\n",
              "      <td>1</td>\n",
              "    </tr>\n",
              "    <tr>\n",
              "      <th>1</th>\n",
              "      <td>1</td>\n",
              "      <td>85</td>\n",
              "      <td>66</td>\n",
              "      <td>29</td>\n",
              "      <td>0</td>\n",
              "      <td>26.6</td>\n",
              "      <td>0.351</td>\n",
              "      <td>31</td>\n",
              "      <td>0</td>\n",
              "    </tr>\n",
              "    <tr>\n",
              "      <th>2</th>\n",
              "      <td>8</td>\n",
              "      <td>183</td>\n",
              "      <td>64</td>\n",
              "      <td>0</td>\n",
              "      <td>0</td>\n",
              "      <td>23.3</td>\n",
              "      <td>0.672</td>\n",
              "      <td>32</td>\n",
              "      <td>1</td>\n",
              "    </tr>\n",
              "    <tr>\n",
              "      <th>3</th>\n",
              "      <td>1</td>\n",
              "      <td>89</td>\n",
              "      <td>66</td>\n",
              "      <td>23</td>\n",
              "      <td>94</td>\n",
              "      <td>28.1</td>\n",
              "      <td>0.167</td>\n",
              "      <td>21</td>\n",
              "      <td>0</td>\n",
              "    </tr>\n",
              "    <tr>\n",
              "      <th>4</th>\n",
              "      <td>0</td>\n",
              "      <td>137</td>\n",
              "      <td>40</td>\n",
              "      <td>35</td>\n",
              "      <td>168</td>\n",
              "      <td>43.1</td>\n",
              "      <td>2.288</td>\n",
              "      <td>33</td>\n",
              "      <td>1</td>\n",
              "    </tr>\n",
              "  </tbody>\n",
              "</table>\n",
              "</div>\n",
              "      <button class=\"colab-df-convert\" onclick=\"convertToInteractive('df-32ef0ceb-d08d-40c3-9889-40dd345a5c79')\"\n",
              "              title=\"Convert this dataframe to an interactive table.\"\n",
              "              style=\"display:none;\">\n",
              "        \n",
              "  <svg xmlns=\"http://www.w3.org/2000/svg\" height=\"24px\"viewBox=\"0 0 24 24\"\n",
              "       width=\"24px\">\n",
              "    <path d=\"M0 0h24v24H0V0z\" fill=\"none\"/>\n",
              "    <path d=\"M18.56 5.44l.94 2.06.94-2.06 2.06-.94-2.06-.94-.94-2.06-.94 2.06-2.06.94zm-11 1L8.5 8.5l.94-2.06 2.06-.94-2.06-.94L8.5 2.5l-.94 2.06-2.06.94zm10 10l.94 2.06.94-2.06 2.06-.94-2.06-.94-.94-2.06-.94 2.06-2.06.94z\"/><path d=\"M17.41 7.96l-1.37-1.37c-.4-.4-.92-.59-1.43-.59-.52 0-1.04.2-1.43.59L10.3 9.45l-7.72 7.72c-.78.78-.78 2.05 0 2.83L4 21.41c.39.39.9.59 1.41.59.51 0 1.02-.2 1.41-.59l7.78-7.78 2.81-2.81c.8-.78.8-2.07 0-2.86zM5.41 20L4 18.59l7.72-7.72 1.47 1.35L5.41 20z\"/>\n",
              "  </svg>\n",
              "      </button>\n",
              "      \n",
              "  <style>\n",
              "    .colab-df-container {\n",
              "      display:flex;\n",
              "      flex-wrap:wrap;\n",
              "      gap: 12px;\n",
              "    }\n",
              "\n",
              "    .colab-df-convert {\n",
              "      background-color: #E8F0FE;\n",
              "      border: none;\n",
              "      border-radius: 50%;\n",
              "      cursor: pointer;\n",
              "      display: none;\n",
              "      fill: #1967D2;\n",
              "      height: 32px;\n",
              "      padding: 0 0 0 0;\n",
              "      width: 32px;\n",
              "    }\n",
              "\n",
              "    .colab-df-convert:hover {\n",
              "      background-color: #E2EBFA;\n",
              "      box-shadow: 0px 1px 2px rgba(60, 64, 67, 0.3), 0px 1px 3px 1px rgba(60, 64, 67, 0.15);\n",
              "      fill: #174EA6;\n",
              "    }\n",
              "\n",
              "    [theme=dark] .colab-df-convert {\n",
              "      background-color: #3B4455;\n",
              "      fill: #D2E3FC;\n",
              "    }\n",
              "\n",
              "    [theme=dark] .colab-df-convert:hover {\n",
              "      background-color: #434B5C;\n",
              "      box-shadow: 0px 1px 3px 1px rgba(0, 0, 0, 0.15);\n",
              "      filter: drop-shadow(0px 1px 2px rgba(0, 0, 0, 0.3));\n",
              "      fill: #FFFFFF;\n",
              "    }\n",
              "  </style>\n",
              "\n",
              "      <script>\n",
              "        const buttonEl =\n",
              "          document.querySelector('#df-32ef0ceb-d08d-40c3-9889-40dd345a5c79 button.colab-df-convert');\n",
              "        buttonEl.style.display =\n",
              "          google.colab.kernel.accessAllowed ? 'block' : 'none';\n",
              "\n",
              "        async function convertToInteractive(key) {\n",
              "          const element = document.querySelector('#df-32ef0ceb-d08d-40c3-9889-40dd345a5c79');\n",
              "          const dataTable =\n",
              "            await google.colab.kernel.invokeFunction('convertToInteractive',\n",
              "                                                     [key], {});\n",
              "          if (!dataTable) return;\n",
              "\n",
              "          const docLinkHtml = 'Like what you see? Visit the ' +\n",
              "            '<a target=\"_blank\" href=https://colab.research.google.com/notebooks/data_table.ipynb>data table notebook</a>'\n",
              "            + ' to learn more about interactive tables.';\n",
              "          element.innerHTML = '';\n",
              "          dataTable['output_type'] = 'display_data';\n",
              "          await google.colab.output.renderOutput(dataTable, element);\n",
              "          const docLink = document.createElement('div');\n",
              "          docLink.innerHTML = docLinkHtml;\n",
              "          element.appendChild(docLink);\n",
              "        }\n",
              "      </script>\n",
              "    </div>\n",
              "  </div>\n",
              "  "
            ],
            "text/plain": [
              "   Pregnancies  Glucose  BloodPressure  ...  DiabetesPedigreeFunction  Age  Class\n",
              "0            6      148             72  ...                     0.627   50      1\n",
              "1            1       85             66  ...                     0.351   31      0\n",
              "2            8      183             64  ...                     0.672   32      1\n",
              "3            1       89             66  ...                     0.167   21      0\n",
              "4            0      137             40  ...                     2.288   33      1\n",
              "\n",
              "[5 rows x 9 columns]"
            ]
          },
          "metadata": {},
          "execution_count": 5
        }
      ]
    },
    {
      "cell_type": "code",
      "source": [
        "# load the dataset\n",
        "dataset = loadtxt('/content/drive/MyDrive/MINI PROJECT(Diabetes Prediction)/pima-diabetes.csv', delimiter=',')\n",
        "dataset"
      ],
      "metadata": {
        "colab": {
          "base_uri": "https://localhost:8080/"
        },
        "id": "1N_glyx7tsu7",
        "outputId": "778bd60b-39da-42a5-ce8f-0966a345c2e5"
      },
      "execution_count": null,
      "outputs": [
        {
          "output_type": "execute_result",
          "data": {
            "text/plain": [
              "array([[  6.   , 148.   ,  72.   , ...,   0.627,  50.   ,   1.   ],\n",
              "       [  1.   ,  85.   ,  66.   , ...,   0.351,  31.   ,   0.   ],\n",
              "       [  8.   , 183.   ,  64.   , ...,   0.672,  32.   ,   1.   ],\n",
              "       ...,\n",
              "       [  5.   , 121.   ,  72.   , ...,   0.245,  30.   ,   0.   ],\n",
              "       [  1.   , 126.   ,  60.   , ...,   0.349,  47.   ,   1.   ],\n",
              "       [  1.   ,  93.   ,  70.   , ...,   0.315,  23.   ,   0.   ]])"
            ]
          },
          "metadata": {},
          "execution_count": 6
        }
      ]
    },
    {
      "cell_type": "markdown",
      "source": [
        "Split data into training and testing"
      ],
      "metadata": {
        "id": "E-nfUN-10VLm"
      }
    },
    {
      "cell_type": "code",
      "source": [
        "#split into input-x and output-y variables\n",
        "X = dataset[:,0:8]\n",
        "y = dataset[:,8]"
      ],
      "metadata": {
        "id": "4HWW0kF1uuvu"
      },
      "execution_count": null,
      "outputs": []
    },
    {
      "cell_type": "code",
      "source": [
        "X_scaled = scale(X) \n",
        "print('Scale - X :\\n', X_scaled)"
      ],
      "metadata": {
        "colab": {
          "base_uri": "https://localhost:8080/"
        },
        "id": "-KHj5x37u5BT",
        "outputId": "0036aa58-5cb0-4732-b84b-18b075dfd348"
      },
      "execution_count": null,
      "outputs": [
        {
          "output_type": "stream",
          "name": "stdout",
          "text": [
            "Scale - X :\n",
            " [[ 0.63994726  0.84832379  0.14964075 ...  0.20401277  0.46849198\n",
            "   1.4259954 ]\n",
            " [-0.84488505 -1.12339636 -0.16054575 ... -0.68442195 -0.36506078\n",
            "  -0.19067191]\n",
            " [ 1.23388019  1.94372388 -0.26394125 ... -1.10325546  0.60439732\n",
            "  -0.10558415]\n",
            " ...\n",
            " [ 0.3429808   0.00330087  0.14964075 ... -0.73518964 -0.68519336\n",
            "  -0.27575966]\n",
            " [-0.84488505  0.1597866  -0.47073225 ... -0.24020459 -0.37110101\n",
            "   1.17073215]\n",
            " [-0.84488505 -0.8730192   0.04624525 ... -0.20212881 -0.47378505\n",
            "  -0.87137393]]\n"
          ]
        }
      ]
    },
    {
      "cell_type": "code",
      "source": [
        "# Split dataset into 'train' & 'test' sets\n",
        "X_train, X_test, y_train, y_test = train_test_split(X_scaled, y, test_size=0.33, random_state=42)"
      ],
      "metadata": {
        "id": "BabptIVhvDaD"
      },
      "execution_count": null,
      "outputs": []
    },
    {
      "cell_type": "code",
      "source": [
        "y_train = np_utils.to_categorical(y_train)"
      ],
      "metadata": {
        "id": "sBnoH7UQvMFU"
      },
      "execution_count": null,
      "outputs": []
    },
    {
      "cell_type": "code",
      "source": [
        "print('Train-Y Encoded:\\n', y_train)"
      ],
      "metadata": {
        "colab": {
          "base_uri": "https://localhost:8080/"
        },
        "id": "FskumsmivWVO",
        "outputId": "5b7f3083-04b0-47b3-a71d-78926d40e71c"
      },
      "execution_count": null,
      "outputs": [
        {
          "output_type": "stream",
          "name": "stdout",
          "text": [
            "Train-Y Encoded:\n",
            " [[1. 0.]\n",
            " [1. 0.]\n",
            " [1. 0.]\n",
            " ...\n",
            " [0. 1.]\n",
            " [0. 1.]\n",
            " [1. 0.]]\n"
          ]
        }
      ]
    },
    {
      "cell_type": "code",
      "source": [
        "#Keras model RELU\n",
        "from keras.models import Sequential\n",
        "from keras.layers import Dense"
      ],
      "metadata": {
        "id": "aChZLiTuvchS"
      },
      "execution_count": null,
      "outputs": []
    },
    {
      "cell_type": "code",
      "source": [
        "model = Sequential()\n",
        "model.add(Dense(12, input_dim=8, activation='relu'))\n",
        "model.add(Dense(8, activation='relu'))\n",
        "model.add(Dense(2, activation='sigmoid'))"
      ],
      "metadata": {
        "id": "yZV2TKj2vlU1"
      },
      "execution_count": null,
      "outputs": []
    },
    {
      "cell_type": "code",
      "source": [
        "#Compilation keras model\n",
        "model.compile(loss='binary_crossentropy', optimizer='adam', metrics=['accuracy'])"
      ],
      "metadata": {
        "id": "wnF02MR3vsVh"
      },
      "execution_count": null,
      "outputs": []
    },
    {
      "cell_type": "code",
      "source": [
        "# fit the keras model on the dataset\n",
        "history = model.fit(X_train, y_train, validation_split=0.33, epochs=150, batch_size=10)"
      ],
      "metadata": {
        "colab": {
          "base_uri": "https://localhost:8080/"
        },
        "id": "wsrlJh6dvy4j",
        "outputId": "607ee5ad-6e40-42e4-b7c1-63e035f78481"
      },
      "execution_count": null,
      "outputs": [
        {
          "output_type": "stream",
          "name": "stdout",
          "text": [
            "Epoch 1/150\n",
            "35/35 [==============================] - 1s 7ms/step - loss: 0.6930 - accuracy: 0.5494 - val_loss: 0.6946 - val_accuracy: 0.5647\n",
            "Epoch 2/150\n",
            "35/35 [==============================] - 0s 3ms/step - loss: 0.6559 - accuracy: 0.7151 - val_loss: 0.6692 - val_accuracy: 0.6765\n",
            "Epoch 3/150\n",
            "35/35 [==============================] - 0s 4ms/step - loss: 0.6278 - accuracy: 0.7471 - val_loss: 0.6453 - val_accuracy: 0.7118\n",
            "Epoch 4/150\n",
            "35/35 [==============================] - 0s 3ms/step - loss: 0.6009 - accuracy: 0.7558 - val_loss: 0.6273 - val_accuracy: 0.7235\n",
            "Epoch 5/150\n",
            "35/35 [==============================] - 0s 3ms/step - loss: 0.5766 - accuracy: 0.7645 - val_loss: 0.6106 - val_accuracy: 0.7235\n",
            "Epoch 6/150\n",
            "35/35 [==============================] - 0s 3ms/step - loss: 0.5527 - accuracy: 0.7703 - val_loss: 0.5933 - val_accuracy: 0.7412\n",
            "Epoch 7/150\n",
            "35/35 [==============================] - 0s 3ms/step - loss: 0.5325 - accuracy: 0.7878 - val_loss: 0.5788 - val_accuracy: 0.7176\n",
            "Epoch 8/150\n",
            "35/35 [==============================] - 0s 3ms/step - loss: 0.5155 - accuracy: 0.7849 - val_loss: 0.5670 - val_accuracy: 0.7235\n",
            "Epoch 9/150\n",
            "35/35 [==============================] - 0s 3ms/step - loss: 0.5009 - accuracy: 0.7849 - val_loss: 0.5573 - val_accuracy: 0.7176\n",
            "Epoch 10/150\n",
            "35/35 [==============================] - 0s 3ms/step - loss: 0.4899 - accuracy: 0.7907 - val_loss: 0.5494 - val_accuracy: 0.7235\n",
            "Epoch 11/150\n",
            "35/35 [==============================] - 0s 3ms/step - loss: 0.4791 - accuracy: 0.7907 - val_loss: 0.5431 - val_accuracy: 0.7353\n",
            "Epoch 12/150\n",
            "35/35 [==============================] - 0s 3ms/step - loss: 0.4721 - accuracy: 0.7936 - val_loss: 0.5373 - val_accuracy: 0.7294\n",
            "Epoch 13/150\n",
            "35/35 [==============================] - 0s 3ms/step - loss: 0.4647 - accuracy: 0.7936 - val_loss: 0.5323 - val_accuracy: 0.7353\n",
            "Epoch 14/150\n",
            "35/35 [==============================] - 0s 3ms/step - loss: 0.4602 - accuracy: 0.7907 - val_loss: 0.5282 - val_accuracy: 0.7353\n",
            "Epoch 15/150\n",
            "35/35 [==============================] - 0s 3ms/step - loss: 0.4541 - accuracy: 0.7936 - val_loss: 0.5240 - val_accuracy: 0.7353\n",
            "Epoch 16/150\n",
            "35/35 [==============================] - 0s 2ms/step - loss: 0.4481 - accuracy: 0.7936 - val_loss: 0.5198 - val_accuracy: 0.7353\n",
            "Epoch 17/150\n",
            "35/35 [==============================] - 0s 3ms/step - loss: 0.4445 - accuracy: 0.7907 - val_loss: 0.5175 - val_accuracy: 0.7353\n",
            "Epoch 18/150\n",
            "35/35 [==============================] - 0s 3ms/step - loss: 0.4395 - accuracy: 0.7965 - val_loss: 0.5137 - val_accuracy: 0.7353\n",
            "Epoch 19/150\n",
            "35/35 [==============================] - 0s 3ms/step - loss: 0.4368 - accuracy: 0.7965 - val_loss: 0.5125 - val_accuracy: 0.7353\n",
            "Epoch 20/150\n",
            "35/35 [==============================] - 0s 2ms/step - loss: 0.4329 - accuracy: 0.7936 - val_loss: 0.5096 - val_accuracy: 0.7353\n",
            "Epoch 21/150\n",
            "35/35 [==============================] - 0s 3ms/step - loss: 0.4293 - accuracy: 0.7936 - val_loss: 0.5063 - val_accuracy: 0.7412\n",
            "Epoch 22/150\n",
            "35/35 [==============================] - 0s 3ms/step - loss: 0.4260 - accuracy: 0.7994 - val_loss: 0.5042 - val_accuracy: 0.7471\n",
            "Epoch 23/150\n",
            "35/35 [==============================] - 0s 4ms/step - loss: 0.4231 - accuracy: 0.8023 - val_loss: 0.5034 - val_accuracy: 0.7412\n",
            "Epoch 24/150\n",
            "35/35 [==============================] - 0s 3ms/step - loss: 0.4206 - accuracy: 0.8052 - val_loss: 0.5003 - val_accuracy: 0.7412\n",
            "Epoch 25/150\n",
            "35/35 [==============================] - 0s 3ms/step - loss: 0.4180 - accuracy: 0.7965 - val_loss: 0.5001 - val_accuracy: 0.7294\n",
            "Epoch 26/150\n",
            "35/35 [==============================] - 0s 2ms/step - loss: 0.4154 - accuracy: 0.7994 - val_loss: 0.4995 - val_accuracy: 0.7353\n",
            "Epoch 27/150\n",
            "35/35 [==============================] - 0s 3ms/step - loss: 0.4135 - accuracy: 0.7994 - val_loss: 0.4989 - val_accuracy: 0.7294\n",
            "Epoch 28/150\n",
            "35/35 [==============================] - 0s 3ms/step - loss: 0.4115 - accuracy: 0.7994 - val_loss: 0.4976 - val_accuracy: 0.7412\n",
            "Epoch 29/150\n",
            "35/35 [==============================] - 0s 3ms/step - loss: 0.4095 - accuracy: 0.7994 - val_loss: 0.4975 - val_accuracy: 0.7412\n",
            "Epoch 30/150\n",
            "35/35 [==============================] - 0s 2ms/step - loss: 0.4094 - accuracy: 0.8023 - val_loss: 0.4955 - val_accuracy: 0.7353\n",
            "Epoch 31/150\n",
            "35/35 [==============================] - 0s 3ms/step - loss: 0.4056 - accuracy: 0.7994 - val_loss: 0.4961 - val_accuracy: 0.7353\n",
            "Epoch 32/150\n",
            "35/35 [==============================] - 0s 3ms/step - loss: 0.4038 - accuracy: 0.8023 - val_loss: 0.4951 - val_accuracy: 0.7353\n",
            "Epoch 33/150\n",
            "35/35 [==============================] - 0s 3ms/step - loss: 0.4020 - accuracy: 0.7994 - val_loss: 0.4963 - val_accuracy: 0.7353\n",
            "Epoch 34/150\n",
            "35/35 [==============================] - 0s 3ms/step - loss: 0.4012 - accuracy: 0.7994 - val_loss: 0.4936 - val_accuracy: 0.7353\n",
            "Epoch 35/150\n",
            "35/35 [==============================] - 0s 3ms/step - loss: 0.3984 - accuracy: 0.8023 - val_loss: 0.4955 - val_accuracy: 0.7294\n",
            "Epoch 36/150\n",
            "35/35 [==============================] - 0s 3ms/step - loss: 0.3963 - accuracy: 0.7965 - val_loss: 0.4943 - val_accuracy: 0.7353\n",
            "Epoch 37/150\n",
            "35/35 [==============================] - 0s 3ms/step - loss: 0.3951 - accuracy: 0.7965 - val_loss: 0.4966 - val_accuracy: 0.7235\n",
            "Epoch 38/150\n",
            "35/35 [==============================] - 0s 3ms/step - loss: 0.3945 - accuracy: 0.7965 - val_loss: 0.4958 - val_accuracy: 0.7176\n",
            "Epoch 39/150\n",
            "35/35 [==============================] - 0s 2ms/step - loss: 0.3933 - accuracy: 0.7994 - val_loss: 0.4975 - val_accuracy: 0.7176\n",
            "Epoch 40/150\n",
            "35/35 [==============================] - 0s 2ms/step - loss: 0.3911 - accuracy: 0.7965 - val_loss: 0.4979 - val_accuracy: 0.7176\n",
            "Epoch 41/150\n",
            "35/35 [==============================] - 0s 3ms/step - loss: 0.3905 - accuracy: 0.7965 - val_loss: 0.4974 - val_accuracy: 0.7235\n",
            "Epoch 42/150\n",
            "35/35 [==============================] - 0s 2ms/step - loss: 0.3892 - accuracy: 0.7965 - val_loss: 0.4961 - val_accuracy: 0.7176\n",
            "Epoch 43/150\n",
            "35/35 [==============================] - 0s 3ms/step - loss: 0.3871 - accuracy: 0.7965 - val_loss: 0.4967 - val_accuracy: 0.7235\n",
            "Epoch 44/150\n",
            "35/35 [==============================] - 0s 3ms/step - loss: 0.3867 - accuracy: 0.8023 - val_loss: 0.4974 - val_accuracy: 0.7176\n",
            "Epoch 45/150\n",
            "35/35 [==============================] - 0s 3ms/step - loss: 0.3852 - accuracy: 0.8052 - val_loss: 0.4994 - val_accuracy: 0.7235\n",
            "Epoch 46/150\n",
            "35/35 [==============================] - 0s 3ms/step - loss: 0.3832 - accuracy: 0.8052 - val_loss: 0.4961 - val_accuracy: 0.7118\n",
            "Epoch 47/150\n",
            "35/35 [==============================] - 0s 3ms/step - loss: 0.3820 - accuracy: 0.8023 - val_loss: 0.4969 - val_accuracy: 0.7176\n",
            "Epoch 48/150\n",
            "35/35 [==============================] - 0s 2ms/step - loss: 0.3811 - accuracy: 0.8023 - val_loss: 0.4984 - val_accuracy: 0.7176\n",
            "Epoch 49/150\n",
            "35/35 [==============================] - 0s 3ms/step - loss: 0.3808 - accuracy: 0.8052 - val_loss: 0.4962 - val_accuracy: 0.7235\n",
            "Epoch 50/150\n",
            "35/35 [==============================] - 0s 3ms/step - loss: 0.3789 - accuracy: 0.8052 - val_loss: 0.5002 - val_accuracy: 0.7176\n",
            "Epoch 51/150\n",
            "35/35 [==============================] - 0s 3ms/step - loss: 0.3787 - accuracy: 0.8023 - val_loss: 0.5010 - val_accuracy: 0.7176\n",
            "Epoch 52/150\n",
            "35/35 [==============================] - 0s 2ms/step - loss: 0.3787 - accuracy: 0.8110 - val_loss: 0.4982 - val_accuracy: 0.7235\n",
            "Epoch 53/150\n",
            "35/35 [==============================] - 0s 2ms/step - loss: 0.3766 - accuracy: 0.8081 - val_loss: 0.5012 - val_accuracy: 0.7235\n",
            "Epoch 54/150\n",
            "35/35 [==============================] - 0s 3ms/step - loss: 0.3762 - accuracy: 0.8081 - val_loss: 0.5002 - val_accuracy: 0.7235\n",
            "Epoch 55/150\n",
            "35/35 [==============================] - 0s 3ms/step - loss: 0.3740 - accuracy: 0.8140 - val_loss: 0.5030 - val_accuracy: 0.7176\n",
            "Epoch 56/150\n",
            "35/35 [==============================] - 0s 3ms/step - loss: 0.3732 - accuracy: 0.8140 - val_loss: 0.5028 - val_accuracy: 0.7176\n",
            "Epoch 57/150\n",
            "35/35 [==============================] - 0s 2ms/step - loss: 0.3739 - accuracy: 0.8110 - val_loss: 0.5011 - val_accuracy: 0.7235\n",
            "Epoch 58/150\n",
            "35/35 [==============================] - 0s 2ms/step - loss: 0.3711 - accuracy: 0.8169 - val_loss: 0.5046 - val_accuracy: 0.7294\n",
            "Epoch 59/150\n",
            "35/35 [==============================] - 0s 3ms/step - loss: 0.3708 - accuracy: 0.8140 - val_loss: 0.5022 - val_accuracy: 0.7235\n",
            "Epoch 60/150\n",
            "35/35 [==============================] - 0s 3ms/step - loss: 0.3687 - accuracy: 0.8169 - val_loss: 0.5049 - val_accuracy: 0.7235\n",
            "Epoch 61/150\n",
            "35/35 [==============================] - 0s 3ms/step - loss: 0.3694 - accuracy: 0.8169 - val_loss: 0.5051 - val_accuracy: 0.7294\n",
            "Epoch 62/150\n",
            "35/35 [==============================] - 0s 3ms/step - loss: 0.3681 - accuracy: 0.8256 - val_loss: 0.5034 - val_accuracy: 0.7294\n",
            "Epoch 63/150\n",
            "35/35 [==============================] - 0s 3ms/step - loss: 0.3672 - accuracy: 0.8198 - val_loss: 0.5056 - val_accuracy: 0.7294\n",
            "Epoch 64/150\n",
            "35/35 [==============================] - 0s 3ms/step - loss: 0.3659 - accuracy: 0.8256 - val_loss: 0.5096 - val_accuracy: 0.7235\n",
            "Epoch 65/150\n",
            "35/35 [==============================] - 0s 3ms/step - loss: 0.3648 - accuracy: 0.8256 - val_loss: 0.5069 - val_accuracy: 0.7235\n",
            "Epoch 66/150\n",
            "35/35 [==============================] - 0s 3ms/step - loss: 0.3643 - accuracy: 0.8314 - val_loss: 0.5102 - val_accuracy: 0.7412\n",
            "Epoch 67/150\n",
            "35/35 [==============================] - 0s 3ms/step - loss: 0.3630 - accuracy: 0.8227 - val_loss: 0.5093 - val_accuracy: 0.7353\n",
            "Epoch 68/150\n",
            "35/35 [==============================] - 0s 3ms/step - loss: 0.3624 - accuracy: 0.8227 - val_loss: 0.5083 - val_accuracy: 0.7353\n",
            "Epoch 69/150\n",
            "35/35 [==============================] - 0s 2ms/step - loss: 0.3609 - accuracy: 0.8285 - val_loss: 0.5104 - val_accuracy: 0.7353\n",
            "Epoch 70/150\n",
            "35/35 [==============================] - 0s 3ms/step - loss: 0.3615 - accuracy: 0.8285 - val_loss: 0.5112 - val_accuracy: 0.7412\n",
            "Epoch 71/150\n",
            "35/35 [==============================] - 0s 3ms/step - loss: 0.3599 - accuracy: 0.8314 - val_loss: 0.5118 - val_accuracy: 0.7412\n",
            "Epoch 72/150\n",
            "35/35 [==============================] - 0s 3ms/step - loss: 0.3596 - accuracy: 0.8314 - val_loss: 0.5122 - val_accuracy: 0.7412\n",
            "Epoch 73/150\n",
            "35/35 [==============================] - 0s 3ms/step - loss: 0.3576 - accuracy: 0.8314 - val_loss: 0.5145 - val_accuracy: 0.7353\n",
            "Epoch 74/150\n",
            "35/35 [==============================] - 0s 3ms/step - loss: 0.3568 - accuracy: 0.8343 - val_loss: 0.5117 - val_accuracy: 0.7412\n",
            "Epoch 75/150\n",
            "35/35 [==============================] - 0s 2ms/step - loss: 0.3563 - accuracy: 0.8314 - val_loss: 0.5148 - val_accuracy: 0.7353\n",
            "Epoch 76/150\n",
            "35/35 [==============================] - 0s 3ms/step - loss: 0.3561 - accuracy: 0.8314 - val_loss: 0.5154 - val_accuracy: 0.7353\n",
            "Epoch 77/150\n",
            "35/35 [==============================] - 0s 3ms/step - loss: 0.3554 - accuracy: 0.8401 - val_loss: 0.5155 - val_accuracy: 0.7353\n",
            "Epoch 78/150\n",
            "35/35 [==============================] - 0s 3ms/step - loss: 0.3553 - accuracy: 0.8314 - val_loss: 0.5168 - val_accuracy: 0.7412\n",
            "Epoch 79/150\n",
            "35/35 [==============================] - 0s 3ms/step - loss: 0.3535 - accuracy: 0.8343 - val_loss: 0.5158 - val_accuracy: 0.7294\n",
            "Epoch 80/150\n",
            "35/35 [==============================] - 0s 3ms/step - loss: 0.3528 - accuracy: 0.8343 - val_loss: 0.5176 - val_accuracy: 0.7294\n",
            "Epoch 81/150\n",
            "35/35 [==============================] - 0s 3ms/step - loss: 0.3520 - accuracy: 0.8372 - val_loss: 0.5175 - val_accuracy: 0.7294\n",
            "Epoch 82/150\n",
            "35/35 [==============================] - 0s 3ms/step - loss: 0.3520 - accuracy: 0.8343 - val_loss: 0.5202 - val_accuracy: 0.7294\n",
            "Epoch 83/150\n",
            "35/35 [==============================] - 0s 2ms/step - loss: 0.3504 - accuracy: 0.8343 - val_loss: 0.5194 - val_accuracy: 0.7294\n",
            "Epoch 84/150\n",
            "35/35 [==============================] - 0s 3ms/step - loss: 0.3491 - accuracy: 0.8343 - val_loss: 0.5210 - val_accuracy: 0.7294\n",
            "Epoch 85/150\n",
            "35/35 [==============================] - 0s 2ms/step - loss: 0.3494 - accuracy: 0.8372 - val_loss: 0.5176 - val_accuracy: 0.7294\n",
            "Epoch 86/150\n",
            "35/35 [==============================] - 0s 3ms/step - loss: 0.3483 - accuracy: 0.8285 - val_loss: 0.5198 - val_accuracy: 0.7353\n",
            "Epoch 87/150\n",
            "35/35 [==============================] - 0s 3ms/step - loss: 0.3472 - accuracy: 0.8343 - val_loss: 0.5198 - val_accuracy: 0.7353\n",
            "Epoch 88/150\n",
            "35/35 [==============================] - 0s 3ms/step - loss: 0.3477 - accuracy: 0.8372 - val_loss: 0.5225 - val_accuracy: 0.7353\n",
            "Epoch 89/150\n",
            "35/35 [==============================] - 0s 3ms/step - loss: 0.3453 - accuracy: 0.8372 - val_loss: 0.5246 - val_accuracy: 0.7294\n",
            "Epoch 90/150\n",
            "35/35 [==============================] - 0s 3ms/step - loss: 0.3447 - accuracy: 0.8372 - val_loss: 0.5243 - val_accuracy: 0.7294\n",
            "Epoch 91/150\n",
            "35/35 [==============================] - 0s 3ms/step - loss: 0.3437 - accuracy: 0.8430 - val_loss: 0.5251 - val_accuracy: 0.7353\n",
            "Epoch 92/150\n",
            "35/35 [==============================] - 0s 3ms/step - loss: 0.3465 - accuracy: 0.8401 - val_loss: 0.5254 - val_accuracy: 0.7294\n",
            "Epoch 93/150\n",
            "35/35 [==============================] - 0s 3ms/step - loss: 0.3424 - accuracy: 0.8488 - val_loss: 0.5260 - val_accuracy: 0.7412\n",
            "Epoch 94/150\n",
            "35/35 [==============================] - 0s 3ms/step - loss: 0.3413 - accuracy: 0.8401 - val_loss: 0.5274 - val_accuracy: 0.7294\n",
            "Epoch 95/150\n",
            "35/35 [==============================] - 0s 3ms/step - loss: 0.3412 - accuracy: 0.8488 - val_loss: 0.5270 - val_accuracy: 0.7353\n",
            "Epoch 96/150\n",
            "35/35 [==============================] - 0s 3ms/step - loss: 0.3392 - accuracy: 0.8547 - val_loss: 0.5282 - val_accuracy: 0.7294\n",
            "Epoch 97/150\n",
            "35/35 [==============================] - 0s 3ms/step - loss: 0.3390 - accuracy: 0.8488 - val_loss: 0.5294 - val_accuracy: 0.7353\n",
            "Epoch 98/150\n",
            "35/35 [==============================] - 0s 3ms/step - loss: 0.3399 - accuracy: 0.8430 - val_loss: 0.5279 - val_accuracy: 0.7412\n",
            "Epoch 99/150\n",
            "35/35 [==============================] - 0s 3ms/step - loss: 0.3373 - accuracy: 0.8547 - val_loss: 0.5278 - val_accuracy: 0.7412\n",
            "Epoch 100/150\n",
            "35/35 [==============================] - 0s 3ms/step - loss: 0.3373 - accuracy: 0.8517 - val_loss: 0.5291 - val_accuracy: 0.7412\n",
            "Epoch 101/150\n",
            "35/35 [==============================] - 0s 3ms/step - loss: 0.3359 - accuracy: 0.8547 - val_loss: 0.5306 - val_accuracy: 0.7353\n",
            "Epoch 102/150\n",
            "35/35 [==============================] - 0s 3ms/step - loss: 0.3368 - accuracy: 0.8517 - val_loss: 0.5303 - val_accuracy: 0.7412\n",
            "Epoch 103/150\n",
            "35/35 [==============================] - 0s 3ms/step - loss: 0.3337 - accuracy: 0.8576 - val_loss: 0.5314 - val_accuracy: 0.7412\n",
            "Epoch 104/150\n",
            "35/35 [==============================] - 0s 3ms/step - loss: 0.3327 - accuracy: 0.8517 - val_loss: 0.5316 - val_accuracy: 0.7412\n",
            "Epoch 105/150\n",
            "35/35 [==============================] - 0s 3ms/step - loss: 0.3324 - accuracy: 0.8547 - val_loss: 0.5324 - val_accuracy: 0.7412\n",
            "Epoch 106/150\n",
            "35/35 [==============================] - 0s 3ms/step - loss: 0.3325 - accuracy: 0.8547 - val_loss: 0.5359 - val_accuracy: 0.7353\n",
            "Epoch 107/150\n",
            "35/35 [==============================] - 0s 3ms/step - loss: 0.3326 - accuracy: 0.8517 - val_loss: 0.5323 - val_accuracy: 0.7353\n",
            "Epoch 108/150\n",
            "35/35 [==============================] - 0s 3ms/step - loss: 0.3304 - accuracy: 0.8634 - val_loss: 0.5309 - val_accuracy: 0.7353\n",
            "Epoch 109/150\n",
            "35/35 [==============================] - 0s 3ms/step - loss: 0.3290 - accuracy: 0.8576 - val_loss: 0.5323 - val_accuracy: 0.7353\n",
            "Epoch 110/150\n",
            "35/35 [==============================] - 0s 3ms/step - loss: 0.3284 - accuracy: 0.8576 - val_loss: 0.5359 - val_accuracy: 0.7353\n",
            "Epoch 111/150\n",
            "35/35 [==============================] - 0s 3ms/step - loss: 0.3272 - accuracy: 0.8663 - val_loss: 0.5361 - val_accuracy: 0.7353\n",
            "Epoch 112/150\n",
            "35/35 [==============================] - 0s 3ms/step - loss: 0.3263 - accuracy: 0.8634 - val_loss: 0.5362 - val_accuracy: 0.7353\n",
            "Epoch 113/150\n",
            "35/35 [==============================] - 0s 3ms/step - loss: 0.3261 - accuracy: 0.8634 - val_loss: 0.5367 - val_accuracy: 0.7353\n",
            "Epoch 114/150\n",
            "35/35 [==============================] - 0s 3ms/step - loss: 0.3246 - accuracy: 0.8605 - val_loss: 0.5358 - val_accuracy: 0.7353\n",
            "Epoch 115/150\n",
            "35/35 [==============================] - 0s 3ms/step - loss: 0.3242 - accuracy: 0.8576 - val_loss: 0.5370 - val_accuracy: 0.7353\n",
            "Epoch 116/150\n",
            "35/35 [==============================] - 0s 3ms/step - loss: 0.3243 - accuracy: 0.8663 - val_loss: 0.5411 - val_accuracy: 0.7412\n",
            "Epoch 117/150\n",
            "35/35 [==============================] - 0s 3ms/step - loss: 0.3226 - accuracy: 0.8576 - val_loss: 0.5391 - val_accuracy: 0.7353\n",
            "Epoch 118/150\n",
            "35/35 [==============================] - 0s 3ms/step - loss: 0.3224 - accuracy: 0.8663 - val_loss: 0.5432 - val_accuracy: 0.7353\n",
            "Epoch 119/150\n",
            "35/35 [==============================] - 0s 2ms/step - loss: 0.3214 - accuracy: 0.8634 - val_loss: 0.5425 - val_accuracy: 0.7353\n",
            "Epoch 120/150\n",
            "35/35 [==============================] - 0s 3ms/step - loss: 0.3200 - accuracy: 0.8605 - val_loss: 0.5407 - val_accuracy: 0.7353\n",
            "Epoch 121/150\n",
            "35/35 [==============================] - 0s 3ms/step - loss: 0.3189 - accuracy: 0.8692 - val_loss: 0.5433 - val_accuracy: 0.7471\n",
            "Epoch 122/150\n",
            "35/35 [==============================] - 0s 3ms/step - loss: 0.3194 - accuracy: 0.8721 - val_loss: 0.5415 - val_accuracy: 0.7353\n",
            "Epoch 123/150\n",
            "35/35 [==============================] - 0s 3ms/step - loss: 0.3176 - accuracy: 0.8634 - val_loss: 0.5451 - val_accuracy: 0.7412\n",
            "Epoch 124/150\n",
            "35/35 [==============================] - 0s 3ms/step - loss: 0.3171 - accuracy: 0.8692 - val_loss: 0.5473 - val_accuracy: 0.7412\n",
            "Epoch 125/150\n",
            "35/35 [==============================] - 0s 3ms/step - loss: 0.3149 - accuracy: 0.8692 - val_loss: 0.5480 - val_accuracy: 0.7471\n",
            "Epoch 126/150\n",
            "35/35 [==============================] - 0s 3ms/step - loss: 0.3143 - accuracy: 0.8692 - val_loss: 0.5490 - val_accuracy: 0.7471\n",
            "Epoch 127/150\n",
            "35/35 [==============================] - 0s 3ms/step - loss: 0.3145 - accuracy: 0.8605 - val_loss: 0.5450 - val_accuracy: 0.7353\n",
            "Epoch 128/150\n",
            "35/35 [==============================] - 0s 3ms/step - loss: 0.3134 - accuracy: 0.8634 - val_loss: 0.5483 - val_accuracy: 0.7412\n",
            "Epoch 129/150\n",
            "35/35 [==============================] - 0s 3ms/step - loss: 0.3118 - accuracy: 0.8692 - val_loss: 0.5512 - val_accuracy: 0.7294\n",
            "Epoch 130/150\n",
            "35/35 [==============================] - 0s 3ms/step - loss: 0.3111 - accuracy: 0.8663 - val_loss: 0.5496 - val_accuracy: 0.7529\n",
            "Epoch 131/150\n",
            "35/35 [==============================] - 0s 3ms/step - loss: 0.3101 - accuracy: 0.8692 - val_loss: 0.5501 - val_accuracy: 0.7529\n",
            "Epoch 132/150\n",
            "35/35 [==============================] - 0s 3ms/step - loss: 0.3092 - accuracy: 0.8692 - val_loss: 0.5520 - val_accuracy: 0.7529\n",
            "Epoch 133/150\n",
            "35/35 [==============================] - 0s 3ms/step - loss: 0.3086 - accuracy: 0.8663 - val_loss: 0.5544 - val_accuracy: 0.7412\n",
            "Epoch 134/150\n",
            "35/35 [==============================] - 0s 3ms/step - loss: 0.3084 - accuracy: 0.8750 - val_loss: 0.5569 - val_accuracy: 0.7412\n",
            "Epoch 135/150\n",
            "35/35 [==============================] - 0s 3ms/step - loss: 0.3072 - accuracy: 0.8779 - val_loss: 0.5545 - val_accuracy: 0.7471\n",
            "Epoch 136/150\n",
            "35/35 [==============================] - 0s 5ms/step - loss: 0.3070 - accuracy: 0.8663 - val_loss: 0.5562 - val_accuracy: 0.7471\n",
            "Epoch 137/150\n",
            "35/35 [==============================] - 0s 3ms/step - loss: 0.3056 - accuracy: 0.8750 - val_loss: 0.5536 - val_accuracy: 0.7412\n",
            "Epoch 138/150\n",
            "35/35 [==============================] - 0s 3ms/step - loss: 0.3053 - accuracy: 0.8721 - val_loss: 0.5564 - val_accuracy: 0.7412\n",
            "Epoch 139/150\n",
            "35/35 [==============================] - 0s 3ms/step - loss: 0.3058 - accuracy: 0.8692 - val_loss: 0.5578 - val_accuracy: 0.7471\n",
            "Epoch 140/150\n",
            "35/35 [==============================] - 0s 3ms/step - loss: 0.3052 - accuracy: 0.8692 - val_loss: 0.5554 - val_accuracy: 0.7529\n",
            "Epoch 141/150\n",
            "35/35 [==============================] - 0s 3ms/step - loss: 0.3030 - accuracy: 0.8692 - val_loss: 0.5577 - val_accuracy: 0.7471\n",
            "Epoch 142/150\n",
            "35/35 [==============================] - 0s 3ms/step - loss: 0.3030 - accuracy: 0.8750 - val_loss: 0.5588 - val_accuracy: 0.7471\n",
            "Epoch 143/150\n",
            "35/35 [==============================] - 0s 3ms/step - loss: 0.3020 - accuracy: 0.8721 - val_loss: 0.5561 - val_accuracy: 0.7588\n",
            "Epoch 144/150\n",
            "35/35 [==============================] - 0s 3ms/step - loss: 0.3019 - accuracy: 0.8721 - val_loss: 0.5598 - val_accuracy: 0.7529\n",
            "Epoch 145/150\n",
            "35/35 [==============================] - 0s 3ms/step - loss: 0.3006 - accuracy: 0.8634 - val_loss: 0.5582 - val_accuracy: 0.7529\n",
            "Epoch 146/150\n",
            "35/35 [==============================] - 0s 3ms/step - loss: 0.3014 - accuracy: 0.8779 - val_loss: 0.5629 - val_accuracy: 0.7529\n",
            "Epoch 147/150\n",
            "35/35 [==============================] - 0s 3ms/step - loss: 0.2991 - accuracy: 0.8750 - val_loss: 0.5604 - val_accuracy: 0.7529\n",
            "Epoch 148/150\n",
            "35/35 [==============================] - 0s 3ms/step - loss: 0.2986 - accuracy: 0.8721 - val_loss: 0.5649 - val_accuracy: 0.7529\n",
            "Epoch 149/150\n",
            "35/35 [==============================] - 0s 3ms/step - loss: 0.2980 - accuracy: 0.8721 - val_loss: 0.5669 - val_accuracy: 0.7529\n",
            "Epoch 150/150\n",
            "35/35 [==============================] - 0s 3ms/step - loss: 0.2982 - accuracy: 0.8779 - val_loss: 0.5696 - val_accuracy: 0.7529\n"
          ]
        }
      ]
    },
    {
      "cell_type": "markdown",
      "source": [
        "Predict for Testing Data"
      ],
      "metadata": {
        "id": "i2kghMw40vkO"
      }
    },
    {
      "cell_type": "code",
      "source": [
        "#Evaluate\n",
        "_, accuracy = model.evaluate(X_train, y_train)\n",
        "print('Accuracy: %.2f' % (accuracy*100))"
      ],
      "metadata": {
        "colab": {
          "base_uri": "https://localhost:8080/"
        },
        "id": "mPongflwwAJ2",
        "outputId": "0fbdf43c-d64e-42aa-9cdb-a19a32ed3ee5"
      },
      "execution_count": null,
      "outputs": [
        {
          "output_type": "stream",
          "name": "stdout",
          "text": [
            "17/17 [==============================] - 0s 2ms/step - loss: 0.3851 - accuracy: 0.8405\n",
            "Accuracy: 84.05\n"
          ]
        }
      ]
    },
    {
      "cell_type": "markdown",
      "source": [
        "Prediction"
      ],
      "metadata": {
        "id": "8saRi7Hk25JV"
      }
    },
    {
      "cell_type": "code",
      "source": [
        "#class prediction with the model\n",
        "predictions = np.argmax(model.predict(X_test), axis=-1)\n",
        "\n",
        "# summarize the 1st  -  5 cases\n",
        "for i in range(10):\n",
        "    print('%s => %d (expected %d)' % (X_test[i].tolist(), predictions[i], y[i])) \n"
      ],
      "metadata": {
        "colab": {
          "base_uri": "https://localhost:8080/"
        },
        "id": "fUqGcJR9wIJv",
        "outputId": "e935580d-5375-45de-8c84-643cc94a35e6"
      },
      "execution_count": null,
      "outputs": [
        {
          "output_type": "stream",
          "name": "stdout",
          "text": [
            "[0.6399472601593618, -0.7165334717264664, -0.5741277459136239, 0.7818138030884967, 0.956859653030945, 0.2547804694892943, -0.1264714020604746, 0.8303811324799336] => 0 (expected 1)\n",
            "[-0.5479185907225473, -0.2783734371474431, 0.30473400231574344, 0.7190857419965655, -0.6928905722954664, 0.47054318659717476, -0.9781448690748636, -1.0415494364835027] => 0 (expected 0)\n",
            "[-0.5479185907225473, -0.4035620184557355, -0.2639412465385531, -1.2882122129452327, -0.6928905722954664, -0.1513611156549505, -0.9479436823013037, -1.0415494364835027] => 0 (expected 1)\n",
            "[1.233880185600316, -0.4348591637828086, 0.5632227517949692, -1.2882122129452327, -0.6928905722954664, -0.9382604368719248, 1.1600991544931767, 0.06459135426761878] => 0 (expected 0)\n",
            "[0.9369137228798391, 0.4727580507023112, 1.0802002507534205, -1.2882122129452327, -0.6928905722954664, -0.26558843647676966, -0.7908975110787921, 1.4259954044228451] => 0 (expected 1)\n",
            "[0.6399472601593618, -0.560047745091101, 0.149640752628208, 0.7190857419965655, 0.956859653030945, 0.7243816773123278, -0.4466039818602094, 1.8514341700963535] => 0 (expected 0)\n",
            "[-0.8448850534430246, -1.56155639555744, -1.0911052448720753, -0.15910711329047122, -0.03299048216490182, -1.4713212673737466, -0.4496241005375654, -0.956461683348801] => 0 (expected 1)\n",
            "[-1.141851516163502, -0.12188771051207764, -3.572597239872642, -1.2882122129452327, -0.6928905722954664, 0.22939662041777864, 1.389628173972232, 0.9154688856146352] => 1 (expected 0)\n",
            "[0.04601433471840724, 1.036106666589627, 0.149640752628208, 0.5309015587207719, 0.4011543139736275, -0.08790149297616225, -0.40432232037722554, 0.31985461367172374] => 1 (expected 1)\n",
            "[0.3429807974388845, 0.8170266493001153, 0.45982725200327884, -1.2882122129452327, -0.6928905722954664, 0.2167046958820217, -0.7667365616599442, 2.70231170144337] => 1 (expected 1)\n"
          ]
        }
      ]
    },
    {
      "cell_type": "code",
      "source": [
        "y_pred = model.predict(X_test)\n",
        "\n",
        "y_pred = np.argmax(y_pred, axis=1) \n",
        "\n",
        "print(\"Prediction = \", accuracy_score(y_test, y_pred))"
      ],
      "metadata": {
        "colab": {
          "base_uri": "https://localhost:8080/"
        },
        "id": "NnlTFPsywS75",
        "outputId": "1f6cb991-7738-4c36-ceca-d7e28bf9750d"
      },
      "execution_count": null,
      "outputs": [
        {
          "output_type": "stream",
          "name": "stdout",
          "text": [
            "Prediction =  0.7519685039370079\n"
          ]
        }
      ]
    },
    {
      "cell_type": "code",
      "source": [
        "print(model.metrics_names)\n",
        "print(\"\\n\")\n",
        "print(history.history.keys())"
      ],
      "metadata": {
        "colab": {
          "base_uri": "https://localhost:8080/"
        },
        "id": "nMZly0uQwbJR",
        "outputId": "82f6536e-29b8-44b3-8f21-b280045b9cbc"
      },
      "execution_count": null,
      "outputs": [
        {
          "output_type": "stream",
          "name": "stdout",
          "text": [
            "['loss', 'accuracy']\n",
            "\n",
            "\n",
            "dict_keys(['loss', 'accuracy', 'val_loss', 'val_accuracy'])\n"
          ]
        }
      ]
    },
    {
      "cell_type": "code",
      "source": [
        "###accuracy(confusion_matrix):\n",
        "    #diagonal_sum = confusion_matrix.trace()\n",
        "    #sum_of_all_elements = confusion_matrix.sum()\n",
        "    #return diagonal_sum / sum_of_all_elements ###\n",
        "\n",
        "from sklearn.metrics import confusion_matrix\n",
        "confusion_matrix(y_test, y_pred)\n"
      ],
      "metadata": {
        "colab": {
          "base_uri": "https://localhost:8080/"
        },
        "id": "ejaEbTNC3Kwj",
        "outputId": "749c0987-9a9a-40b3-9591-c25102dcc4f9"
      },
      "execution_count": null,
      "outputs": [
        {
          "output_type": "execute_result",
          "data": {
            "text/plain": [
              "array([[136,  32],\n",
              "       [ 31,  55]])"
            ]
          },
          "metadata": {},
          "execution_count": 24
        }
      ]
    }
  ]
}